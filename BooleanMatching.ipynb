{
 "cells": [
  {
   "cell_type": "markdown",
   "metadata": {},
   "source": [
    "# Boolean matching between a function and a library gate\n",
    "\n",
    "The package [pyeda](https://pypi.org/project/pyeda/) is used to represent and manipulate Boolean functions. We suggest the user to play with different functions and gates."
   ]
  },
  {
   "cell_type": "code",
   "execution_count": 1,
   "metadata": {},
   "outputs": [],
   "source": [
    "from pyeda.inter import *"
   ]
  },
  {
   "cell_type": "markdown",
   "metadata": {},
   "source": [
    "### The function we want to match"
   ]
  },
  {
   "cell_type": "code",
   "execution_count": 2,
   "metadata": {},
   "outputs": [],
   "source": [
    "f = expr(\"x1 & ~x2\")\n",
    "# f = expr(\"x1 ^ x2\")  # you may also want to try this one"
   ]
  },
  {
   "cell_type": "markdown",
   "metadata": {},
   "source": [
    "### Selection and polarity of the inputs"
   ]
  },
  {
   "cell_type": "code",
   "execution_count": 3,
   "metadata": {},
   "outputs": [],
   "source": [
    "y1 = expr(\"(~a & x1 | a & x2)^b\") # ~a: select x1, a: select x2, b: invert the input\n",
    "y2 = expr(\"(~c & x1 | c & x2)^d\") # ~c: select x1, c: select x2, d: invert the input"
   ]
  },
  {
   "cell_type": "markdown",
   "metadata": {},
   "source": [
    "### The library gate"
   ]
  },
  {
   "cell_type": "code",
   "execution_count": 4,
   "metadata": {},
   "outputs": [],
   "source": [
    "g = y1 | y2"
   ]
  },
  {
   "cell_type": "markdown",
   "metadata": {},
   "source": [
    "### Construction of the matching circuit"
   ]
  },
  {
   "cell_type": "code",
   "execution_count": 5,
   "metadata": {
    "scrolled": true
   },
   "outputs": [
    {
     "data": {
      "text/plain": [
       "Not(Xor(And(x1, ~x2), Xor(Or(Xor(b, Or(And(x1, ~a), And(x2, a))), Xor(d, Or(And(x1, ~c), And(x2, c)))), e)))"
      ]
     },
     "execution_count": 5,
     "metadata": {},
     "output_type": "execute_result"
    }
   ],
   "source": [
    "gp = g ^ exprvar('e') # d: invert the output\n",
    "h = ~(f ^ gp)         # mitter (equality (XNOR) between the function and the gate)\n",
    "h"
   ]
  },
  {
   "cell_type": "markdown",
   "metadata": {},
   "source": [
    "### Calculation of the universal abstraction with regard to x1 and x2\n",
    "\n",
    "The equality must hold **for all** possible values of `x1` and `x2` (universal abstraction)"
   ]
  },
  {
   "cell_type": "code",
   "execution_count": 6,
   "metadata": {
    "scrolled": true
   },
   "outputs": [
    {
     "data": {
      "text/plain": [
       "And(And(And(Not(Xor(e, Or(b, d))), Xor(e, Or(Xor(~a, b), Xor(~c, d)))), Not(Xor(e, Or(Xor(a, b), Xor(c, d))))), Not(Xor(e, Or(~b, ~d))))"
      ]
     },
     "execution_count": 6,
     "metadata": {},
     "output_type": "execute_result"
    }
   ],
   "source": [
    "x1, x2 = exprvar('x1'), exprvar('x2')\n",
    "match = h.consensus([x1, x2]) # Universal abstraction\n",
    "match"
   ]
  },
  {
   "cell_type": "markdown",
   "metadata": {},
   "source": [
    "### Finding a satisfying assignment"
   ]
  },
  {
   "cell_type": "code",
   "execution_count": 7,
   "metadata": {},
   "outputs": [
    {
     "name": "stdout",
     "output_type": "stream",
     "text": [
      "{e: 1, d: 0, c: 1, b: 1, a: 0}\n"
     ]
    }
   ],
   "source": [
    "sat = match.satisfy_one()\n",
    "print(sat)"
   ]
  },
  {
   "cell_type": "markdown",
   "metadata": {},
   "source": [
    "### Iterating over all satisfying assignments"
   ]
  },
  {
   "cell_type": "code",
   "execution_count": 8,
   "metadata": {},
   "outputs": [
    {
     "name": "stdout",
     "output_type": "stream",
     "text": [
      "{e: 1, d: 0, c: 1, b: 1, a: 0}\n",
      "{e: 1, d: 1, c: 0, b: 0, a: 1}\n"
     ]
    }
   ],
   "source": [
    "for s in match.satisfy_all():\n",
    "    print(s)"
   ]
  }
 ],
 "metadata": {
  "hide_input": false,
  "kernelspec": {
   "display_name": "Python 3",
   "language": "python",
   "name": "python3"
  },
  "language_info": {
   "codemirror_mode": {
    "name": "ipython",
    "version": 3
   },
   "file_extension": ".py",
   "mimetype": "text/x-python",
   "name": "python",
   "nbconvert_exporter": "python",
   "pygments_lexer": "ipython3",
   "version": "3.8.5"
  },
  "varInspector": {
   "cols": {
    "lenName": 16,
    "lenType": 16,
    "lenVar": 40
   },
   "kernels_config": {
    "python": {
     "delete_cmd_postfix": "",
     "delete_cmd_prefix": "del ",
     "library": "var_list.py",
     "varRefreshCmd": "print(var_dic_list())"
    },
    "r": {
     "delete_cmd_postfix": ") ",
     "delete_cmd_prefix": "rm(",
     "library": "var_list.r",
     "varRefreshCmd": "cat(var_dic_list()) "
    }
   },
   "types_to_exclude": [
    "module",
    "function",
    "builtin_function_or_method",
    "instance",
    "_Feature"
   ],
   "window_display": false
  }
 },
 "nbformat": 4,
 "nbformat_minor": 4
}
